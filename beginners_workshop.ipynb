{
 "cells": [
  {
   "cell_type": "markdown",
   "id": "89af27d3-f317-4cf0-89c3-e7c796fed675",
   "metadata": {},
   "source": [
    "# Beginners workshop\n",
    "\n",
    "- Creating variables\n",
    "- Using functions\n",
    "- Installing and using packages\n",
    "\n",
    "## Creating varibles\n",
    "\n",
    "#### Create a variable called `clicks` and give it the value of the clicks you got today:"
   ]
  },
  {
   "cell_type": "code",
   "execution_count": null,
   "id": "d2b6c387-0ff9-4455-a2ff-cdb00b3c3480",
   "metadata": {},
   "outputs": [],
   "source": []
  },
  {
   "cell_type": "markdown",
   "id": "89237d0c-0ad9-4af4-8338-c1f583795e3c",
   "metadata": {},
   "source": [
    "#### Multiply `clicks` by 5"
   ]
  },
  {
   "cell_type": "code",
   "execution_count": null,
   "id": "b0b402f1-2199-4578-b316-4b322212c235",
   "metadata": {},
   "outputs": [],
   "source": []
  },
  {
   "cell_type": "markdown",
   "id": "9859f786-72ca-4e33-97a7-c20b0cee50d9",
   "metadata": {},
   "source": [
    "#### Add 10 to `clicks`"
   ]
  },
  {
   "cell_type": "code",
   "execution_count": null,
   "id": "c5226ba0-fa86-49bb-9ba4-9929caf232a9",
   "metadata": {},
   "outputs": [],
   "source": []
  },
  {
   "cell_type": "markdown",
   "id": "3340ca2c-0f19-4175-b4d3-1a963fc50615",
   "metadata": {},
   "source": [
    "#### Create a list called `impressions` using the following values:\n",
    "\n",
    "342, 342, 456, 453, 123, 213, 455, 334, 336"
   ]
  },
  {
   "cell_type": "code",
   "execution_count": null,
   "id": "18e93b9d-1e02-4be6-bb6b-ef859bb70f2b",
   "metadata": {},
   "outputs": [],
   "source": []
  },
  {
   "cell_type": "markdown",
   "id": "c6b8e72a-0579-462a-8da3-7c73d045eb74",
   "metadata": {},
   "source": [
    "#### Compute the sum of those numbers, assign it a variable called `total_impressions`"
   ]
  },
  {
   "cell_type": "code",
   "execution_count": null,
   "id": "e77ef774-d913-4f53-b636-2bacf654eea1",
   "metadata": {},
   "outputs": [],
   "source": []
  },
  {
   "cell_type": "markdown",
   "id": "26a270cd-40e9-4f82-8c4f-4a648ec264c1",
   "metadata": {},
   "source": [
    "#### Install `advertools`"
   ]
  },
  {
   "cell_type": "code",
   "execution_count": null,
   "id": "dfbde6d9-f925-4a52-abf4-0fc1821623dc",
   "metadata": {},
   "outputs": [],
   "source": []
  },
  {
   "cell_type": "markdown",
   "id": "bc7cd602",
   "metadata": {},
   "source": [
    "#### Install `pandas`, `plotly` and `adviz`"
   ]
  },
  {
   "cell_type": "code",
   "execution_count": null,
   "id": "50aef89f-334f-4186-b5ce-885611e94b1a",
   "metadata": {},
   "outputs": [],
   "source": []
  }
 ],
 "metadata": {
  "kernelspec": {
   "display_name": "Python 3 (ipykernel)",
   "language": "python",
   "name": "python3"
  },
  "language_info": {
   "name": "python"
  }
 },
 "nbformat": 4,
 "nbformat_minor": 5
}
